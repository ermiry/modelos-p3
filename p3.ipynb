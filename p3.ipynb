{
  "cells": [
    {
      "cell_type": "code",
      "execution_count": 23,
      "metadata": {
        "id": "FU0njilvEvfT"
      },
      "outputs": [],
      "source": [
        "# Erick Salas, Ricardo Whaibe, Max Escobar, Mariana Pena, Uriel Castenda, Aramis Quiroz\n",
        "# https://github.com/ermiry/modelos-p3\n",
        "import numpy as np\n",
        "import pandas as pd\n",
        "from scipy.optimize import linprog"
      ]
    },
    {
      "cell_type": "code",
      "execution_count": 24,
      "metadata": {
        "colab": {
          "base_uri": "https://localhost:8080/"
        },
        "id": "pzkLcrBlE28n",
        "outputId": "05f1c075-abad-4db8-f251-c69ff60418ce"
      },
      "outputs": [
        {
          "name": "stdout",
          "output_type": "stream",
          "text": [
            "Data: \n",
            "[[1000    0    0    3    4    0    0    0    0]\n",
            " [1200    0    0    2    5    0    0    0    0]\n",
            " [   0    0    0    0    7    8    6    0    0]\n",
            " [   0    0    0    0    0    0    4    9    0]\n",
            " [   0    0    0    0    0    0    5    0  800]\n",
            " [   0    0    0    0    0    0    0    3  900]\n",
            " [   0    0    0    0    0    0    0    0  500]]\n"
          ]
        }
      ],
      "source": [
        "# descargamos los datos del GitHub\n",
        "datos = pd.read_csv (\n",
        "\t\"https://raw.githubusercontent.com/ermiry/modelos-p3/main/transbordo.csv\"\n",
        ")\n",
        "\n",
        "# cargamos los datos en una matriz\n",
        "matrix = datos.to_numpy ()\n",
        "print (\"Data: \")\n",
        "print (matrix)"
      ]
    },
    {
      "cell_type": "code",
      "execution_count": 25,
      "metadata": {
        "id": "_T792Sw6NXSW"
      },
      "outputs": [
        {
          "name": "stdout",
          "output_type": "stream",
          "text": [
            "[(0, 3), (0, 4), (1, 3), (1, 4), (2, 4), (2, 5), (2, 6), (3, 6), (3, 7), (4, 6), (5, 7)]\n"
          ]
        }
      ],
      "source": [
        "rows, cols = matrix.shape\n",
        "\n",
        "# sacamos las coordenadas de las celdas donde el valor es diferente de 0\n",
        "coords = []\n",
        "for i in range (rows):\n",
        "  j = 1\n",
        "  while (j < cols - 1):\n",
        "    if (matrix[i][j] > 0):\n",
        "      coords.append ((i, j))\n",
        "    j += 1\n",
        "\n",
        "print (coords)\n"
      ]
    },
    {
      "cell_type": "code",
      "execution_count": 26,
      "metadata": {
        "colab": {
          "base_uri": "https://localhost:8080/"
        },
        "id": "n-jHWmkQZHlz",
        "outputId": "fb9dc51a-ede8-46cd-949c-f685565a7c7e"
      },
      "outputs": [
        {
          "name": "stdout",
          "output_type": "stream",
          "text": [
            "[[3 4 2 5 7 8 6 4 9 5 3 0]\n",
            " [0 0 0 0 0 0 0 0 0 0 0 0]\n",
            " [0 0 0 0 0 0 0 0 0 0 0 0]\n",
            " [0 0 0 0 0 0 0 0 0 0 0 0]\n",
            " [0 0 0 0 0 0 0 0 0 0 0 0]\n",
            " [0 0 0 0 0 0 0 0 0 0 0 0]\n",
            " [0 0 0 0 0 0 0 0 0 0 0 0]\n",
            " [0 0 0 0 0 0 0 0 0 0 0 0]]\n"
          ]
        }
      ],
      "source": [
        "# creamos una matriz auxiliar para trabajar sobre ella\n",
        "aux = np.zeros ((rows + 1, len (coords) + 1), dtype=int)\n",
        "\n",
        "k = 0\n",
        "for i in range (rows):\n",
        "  j = 1\n",
        "  while (j < cols - 1):\n",
        "    if (matrix[i][j] != 0):\n",
        "      aux[0][k] = matrix[i][j]\n",
        "      k += 1\n",
        "    j += 1\n",
        "\n",
        "print (aux)\n"
      ]
    },
    {
      "cell_type": "code",
      "execution_count": 27,
      "metadata": {},
      "outputs": [
        {
          "name": "stdout",
          "output_type": "stream",
          "text": [
            "[[   3    4    2    5    7    8    6    4    9    5    3    0]\n",
            " [   1    1    0    0    0    0    0    0    0    0    0 1000]\n",
            " [   0    0    1    1    0    0    0    0    0    0    0 1200]\n",
            " [   1    0    1    0   -1   -1   -1    0    0    0    0    0]\n",
            " [   0    1    0    1    1    0    0   -1   -1    0    0    0]\n",
            " [   0    0    0    0    0    1    0    0    0   -1    0  800]\n",
            " [   0    0    0    0    0    0    1    1    0    1   -1  900]\n",
            " [   0    0    0    0    0    0    0    0    1    0    1  500]]\n"
          ]
        }
      ],
      "source": [
        "rows_aux, cols_aux = aux.shape\n",
        "\n",
        "# agregamos restricciones a la matriz auxiliar\n",
        "for i in range (rows):\n",
        "  j = 1\n",
        "\n",
        "  # checar si la oferta es mayor a 0\n",
        "  if (matrix[i][0] > 0):\n",
        "    aux[i + 1][cols_aux - 1] = matrix[i][0]\n",
        "    j = 1\n",
        "    while (j < cols - 1):\n",
        "      if matrix[i][j] > 0:\n",
        "        aux[i + 1][coords.index ((i, j))] = 1\n",
        "      j += 1\n",
        "\n",
        "  # la oferta es 0\n",
        "  else:\n",
        "    aux[i + 1][cols_aux - 1] = matrix[i][cols - 1]\n",
        "    j = 1\n",
        "    while (j < cols - 1):\n",
        "      if (matrix[i][j] > 0):\n",
        "        aux[i + 1][coords.index ((i, j))] = -1\n",
        "      j += 1\n",
        "    j = 0\n",
        "    while (j < rows):\n",
        "      if (matrix[j][i + 1] > 0):\n",
        "        aux[i + 1][coords.index ((j, i + 1))] = 1\n",
        "      j += 1\n",
        "\n",
        "print (aux)"
      ]
    },
    {
      "cell_type": "code",
      "execution_count": 28,
      "metadata": {
        "colab": {
          "base_uri": "https://localhost:8080/"
        },
        "id": "FcRsaZxsBiOj",
        "outputId": "643e9cab-f6ab-4f16-fe77-50c2ad960536"
      },
      "outputs": [
        {
          "name": "stdout",
          "output_type": "stream",
          "text": [
            "Coeficientes de funcion objetivo:  [3 4 2 5 7 8 6 4 9 5 3]\n",
            "Coeficientes de restricciones:\n",
            " [[ 1  1  0  0  0  0  0  0  0  0  0]\n",
            " [ 0  0  1  1  0  0  0  0  0  0  0]\n",
            " [ 1  0  1  0 -1 -1 -1  0  0  0  0]\n",
            " [ 0  1  0  1  1  0  0 -1 -1  0  0]\n",
            " [ 0  0  0  0  0  1  0  0  0 -1  0]\n",
            " [ 0  0  0  0  0  0  1  1  0  1 -1]\n",
            " [ 0  0  0  0  0  0  0  0  1  0  1]]\n",
            "Limites:\n",
            " [1000 1200    0    0  800  900  500]\n"
          ]
        }
      ],
      "source": [
        "# sacamos los datos de la matriz auxiliar\n",
        "objetivo = aux[0, 0:-1]\n",
        "restricciones = aux[1:, :-1]\n",
        "limites = aux[1:, -1]\n",
        "\n",
        "print (\"Coeficientes de funcion objetivo: \", objetivo)\n",
        "print (\"Coeficientes de restricciones:\\n\", restricciones)\n",
        "print (\"Limites:\\n\", limites)"
      ]
    },
    {
      "cell_type": "code",
      "execution_count": 29,
      "metadata": {
        "colab": {
          "base_uri": "https://localhost:8080/"
        },
        "id": "wLhwAgfFBmlP",
        "outputId": "5085b73a-2f5d-4612-f696-1110a7b402c5"
      },
      "outputs": [
        {
          "name": "stdout",
          "output_type": "stream",
          "text": [
            "Resultado: 20700.0\n",
            "AC = 0.0\n",
            "AD = 1000.0\n",
            "BC = 1200.0\n",
            "BD = 0.0\n",
            "CD = 0.0\n",
            "CE = 800.0\n",
            "CF = 400.0\n",
            "DF = 1000.0\n",
            "DG = 0.0\n",
            "EF = 0.0\n",
            "FG = 500.0\n"
          ]
        },
        {
          "name": "stderr",
          "output_type": "stream",
          "text": [
            "/tmp/ipykernel_6453/961717917.py:4: OptimizeWarning: A_eq does not appear to be of full row rank. To improve performance, check the problem formulation for redundant equality constraints.\n",
            "  result = linprog (objetivo, A_eq=restricciones, b_eq=limites, method=\"simplex\")\n"
          ]
        }
      ],
      "source": [
        "nodes = [\"A\", \"B\", \"C\", \"D\", \"E\", \"F\", \"G\", \"H\", \"I\", \"J\", \"K\", \"L\", \"M\", \"N\", \"O\", \"P\", \"Q\", \"R\", \"S\", \"T\", \"U\", \"V\", \"W\", \"X\", \"Y\", \"Z\"]\n",
        "\n",
        "# calculamos la funcion simplex usando linprog\n",
        "result = linprog (objetivo, A_eq=restricciones, b_eq=limites, method=\"simplex\")\n",
        "\n",
        "print (\"Resultado:\", result.fun)\n",
        "\n",
        "for node in coords:\n",
        "  print (f\"{nodes[node[0]]}{nodes[node[1] - 1]} = {result.x[coords.index (node)]}\")"
      ]
    }
  ],
  "metadata": {
    "colab": {
      "collapsed_sections": [],
      "name": "p3v1.ipynb",
      "provenance": []
    },
    "interpreter": {
      "hash": "916dbcbb3f70747c44a77c7bcd40155683ae19c65e1c03b4aa3499c5328201f1"
    },
    "kernelspec": {
      "display_name": "Python 3.8.10 64-bit",
      "name": "python3"
    },
    "language_info": {
      "codemirror_mode": {
        "name": "ipython",
        "version": 3
      },
      "file_extension": ".py",
      "mimetype": "text/x-python",
      "name": "python",
      "nbconvert_exporter": "python",
      "pygments_lexer": "ipython3",
      "version": "3.8.10"
    }
  },
  "nbformat": 4,
  "nbformat_minor": 0
}
